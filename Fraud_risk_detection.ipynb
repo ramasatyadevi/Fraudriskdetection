{
  "nbformat": 4,
  "nbformat_minor": 0,
  "metadata": {
    "colab": {
      "provenance": []
    },
    "kernelspec": {
      "name": "python3",
      "display_name": "Python 3"
    },
    "language_info": {
      "name": "python"
    }
  },
  "cells": [
    {
      "cell_type": "code",
      "execution_count": null,
      "metadata": {
        "id": "rn70Gzy8tbk5"
      },
      "outputs": [],
      "source": [
        "import random\n",
        "from datetime import datetime\n",
        "import numpy as np\n",
        "import pandas as pd\n",
        "import random as rd"
      ]
    },
    {
      "cell_type": "code",
      "source": [
        "\n",
        "name = ['central_square','flipkart','Amazon','Meesho','shopsy','Temple_square','Yummy_shop','Myntra']\n",
        "name = rd.choices(name,k =100)\n",
        "used_method = ['finger print','pattern','face recognition','pin']\n",
        "used_method = rd.choices(used_method,k = 100)\n",
        "transaction_type = ['UPI','credit_card','Debit_card']\n",
        "transaction_type = rd.choices(transaction_type, k = 100)\n",
        "No_of_times = ['1','2','3','4','5','6','7','8','9','10']\n",
        "No_of_times = rd.choices(No_of_times,k =100)\n",
        "fraud = ['0','1']\n",
        "fraud = rd.choices(fraud,k =100)\n",
        "\n",
        "\n",
        "\n",
        "amount = np.random.randint(25,50,100)\n",
        "#date = [np.random.randint(0, (end_date - start_date).days) + start_date for _ in range(100)]\n",
        "#time =time(0,0,random.randint(0,86399)).strftime('%H:%M:%S')\n",
        "#fraud =random.choice(['0', '1'])\n",
        "\n",
        "data  = {\n",
        "\n",
        "    'Name' : name,\n",
        "    'Amount' :  amount,\n",
        "    #'Date' :date,\n",
        "    #'Time' : time,\n",
        "    'Fraud' : fraud,\n",
        "    'Used_method' : used_method,\n",
        "    'Transaction_type':transaction_type,\n",
        "    'No_of_times':No_of_times\n",
        "\n",
        "\n",
        "}\n",
        "df = pd.DataFrame(data)\n",
        "df.head(15)"
      ],
      "metadata": {
        "colab": {
          "base_uri": "https://localhost:8080/",
          "height": 519
        },
        "id": "aovb5_lmwUH9",
        "outputId": "17367dec-d806-49cc-c26c-a746b0e92aa9"
      },
      "execution_count": null,
      "outputs": [
        {
          "output_type": "execute_result",
          "data": {
            "text/plain": [
              "              Name  Amount Fraud       Used_method Transaction_type  \\\n",
              "0           Meesho      48     0      finger print              UPI   \n",
              "1           Amazon      42     1               pin              UPI   \n",
              "2       Yummy_shop      28     0      finger print       Debit_card   \n",
              "3         flipkart      44     0           pattern       Debit_card   \n",
              "4       Yummy_shop      30     0  face recognition      credit_card   \n",
              "5       Yummy_shop      26     0               pin       Debit_card   \n",
              "6    Temple_square      49     1  face recognition              UPI   \n",
              "7   central_square      43     0           pattern      credit_card   \n",
              "8           Myntra      26     0               pin      credit_card   \n",
              "9    Temple_square      32     1  face recognition       Debit_card   \n",
              "10          Amazon      30     0  face recognition      credit_card   \n",
              "11  central_square      39     1           pattern      credit_card   \n",
              "12          Meesho      45     0  face recognition              UPI   \n",
              "13          Amazon      32     1      finger print      credit_card   \n",
              "14          Myntra      36     1  face recognition      credit_card   \n",
              "\n",
              "   No_of_times  \n",
              "0            4  \n",
              "1            3  \n",
              "2            4  \n",
              "3            9  \n",
              "4            6  \n",
              "5            6  \n",
              "6            8  \n",
              "7            1  \n",
              "8            3  \n",
              "9            4  \n",
              "10           4  \n",
              "11           1  \n",
              "12           4  \n",
              "13           1  \n",
              "14           7  "
            ],
            "text/html": [
              "\n",
              "  <div id=\"df-8b61ecb8-c27f-4b12-b593-1fc369f8d027\" class=\"colab-df-container\">\n",
              "    <div>\n",
              "<style scoped>\n",
              "    .dataframe tbody tr th:only-of-type {\n",
              "        vertical-align: middle;\n",
              "    }\n",
              "\n",
              "    .dataframe tbody tr th {\n",
              "        vertical-align: top;\n",
              "    }\n",
              "\n",
              "    .dataframe thead th {\n",
              "        text-align: right;\n",
              "    }\n",
              "</style>\n",
              "<table border=\"1\" class=\"dataframe\">\n",
              "  <thead>\n",
              "    <tr style=\"text-align: right;\">\n",
              "      <th></th>\n",
              "      <th>Name</th>\n",
              "      <th>Amount</th>\n",
              "      <th>Fraud</th>\n",
              "      <th>Used_method</th>\n",
              "      <th>Transaction_type</th>\n",
              "      <th>No_of_times</th>\n",
              "    </tr>\n",
              "  </thead>\n",
              "  <tbody>\n",
              "    <tr>\n",
              "      <th>0</th>\n",
              "      <td>Meesho</td>\n",
              "      <td>48</td>\n",
              "      <td>0</td>\n",
              "      <td>finger print</td>\n",
              "      <td>UPI</td>\n",
              "      <td>4</td>\n",
              "    </tr>\n",
              "    <tr>\n",
              "      <th>1</th>\n",
              "      <td>Amazon</td>\n",
              "      <td>42</td>\n",
              "      <td>1</td>\n",
              "      <td>pin</td>\n",
              "      <td>UPI</td>\n",
              "      <td>3</td>\n",
              "    </tr>\n",
              "    <tr>\n",
              "      <th>2</th>\n",
              "      <td>Yummy_shop</td>\n",
              "      <td>28</td>\n",
              "      <td>0</td>\n",
              "      <td>finger print</td>\n",
              "      <td>Debit_card</td>\n",
              "      <td>4</td>\n",
              "    </tr>\n",
              "    <tr>\n",
              "      <th>3</th>\n",
              "      <td>flipkart</td>\n",
              "      <td>44</td>\n",
              "      <td>0</td>\n",
              "      <td>pattern</td>\n",
              "      <td>Debit_card</td>\n",
              "      <td>9</td>\n",
              "    </tr>\n",
              "    <tr>\n",
              "      <th>4</th>\n",
              "      <td>Yummy_shop</td>\n",
              "      <td>30</td>\n",
              "      <td>0</td>\n",
              "      <td>face recognition</td>\n",
              "      <td>credit_card</td>\n",
              "      <td>6</td>\n",
              "    </tr>\n",
              "    <tr>\n",
              "      <th>5</th>\n",
              "      <td>Yummy_shop</td>\n",
              "      <td>26</td>\n",
              "      <td>0</td>\n",
              "      <td>pin</td>\n",
              "      <td>Debit_card</td>\n",
              "      <td>6</td>\n",
              "    </tr>\n",
              "    <tr>\n",
              "      <th>6</th>\n",
              "      <td>Temple_square</td>\n",
              "      <td>49</td>\n",
              "      <td>1</td>\n",
              "      <td>face recognition</td>\n",
              "      <td>UPI</td>\n",
              "      <td>8</td>\n",
              "    </tr>\n",
              "    <tr>\n",
              "      <th>7</th>\n",
              "      <td>central_square</td>\n",
              "      <td>43</td>\n",
              "      <td>0</td>\n",
              "      <td>pattern</td>\n",
              "      <td>credit_card</td>\n",
              "      <td>1</td>\n",
              "    </tr>\n",
              "    <tr>\n",
              "      <th>8</th>\n",
              "      <td>Myntra</td>\n",
              "      <td>26</td>\n",
              "      <td>0</td>\n",
              "      <td>pin</td>\n",
              "      <td>credit_card</td>\n",
              "      <td>3</td>\n",
              "    </tr>\n",
              "    <tr>\n",
              "      <th>9</th>\n",
              "      <td>Temple_square</td>\n",
              "      <td>32</td>\n",
              "      <td>1</td>\n",
              "      <td>face recognition</td>\n",
              "      <td>Debit_card</td>\n",
              "      <td>4</td>\n",
              "    </tr>\n",
              "    <tr>\n",
              "      <th>10</th>\n",
              "      <td>Amazon</td>\n",
              "      <td>30</td>\n",
              "      <td>0</td>\n",
              "      <td>face recognition</td>\n",
              "      <td>credit_card</td>\n",
              "      <td>4</td>\n",
              "    </tr>\n",
              "    <tr>\n",
              "      <th>11</th>\n",
              "      <td>central_square</td>\n",
              "      <td>39</td>\n",
              "      <td>1</td>\n",
              "      <td>pattern</td>\n",
              "      <td>credit_card</td>\n",
              "      <td>1</td>\n",
              "    </tr>\n",
              "    <tr>\n",
              "      <th>12</th>\n",
              "      <td>Meesho</td>\n",
              "      <td>45</td>\n",
              "      <td>0</td>\n",
              "      <td>face recognition</td>\n",
              "      <td>UPI</td>\n",
              "      <td>4</td>\n",
              "    </tr>\n",
              "    <tr>\n",
              "      <th>13</th>\n",
              "      <td>Amazon</td>\n",
              "      <td>32</td>\n",
              "      <td>1</td>\n",
              "      <td>finger print</td>\n",
              "      <td>credit_card</td>\n",
              "      <td>1</td>\n",
              "    </tr>\n",
              "    <tr>\n",
              "      <th>14</th>\n",
              "      <td>Myntra</td>\n",
              "      <td>36</td>\n",
              "      <td>1</td>\n",
              "      <td>face recognition</td>\n",
              "      <td>credit_card</td>\n",
              "      <td>7</td>\n",
              "    </tr>\n",
              "  </tbody>\n",
              "</table>\n",
              "</div>\n",
              "    <div class=\"colab-df-buttons\">\n",
              "\n",
              "  <div class=\"colab-df-container\">\n",
              "    <button class=\"colab-df-convert\" onclick=\"convertToInteractive('df-8b61ecb8-c27f-4b12-b593-1fc369f8d027')\"\n",
              "            title=\"Convert this dataframe to an interactive table.\"\n",
              "            style=\"display:none;\">\n",
              "\n",
              "  <svg xmlns=\"http://www.w3.org/2000/svg\" height=\"24px\" viewBox=\"0 -960 960 960\">\n",
              "    <path d=\"M120-120v-720h720v720H120Zm60-500h600v-160H180v160Zm220 220h160v-160H400v160Zm0 220h160v-160H400v160ZM180-400h160v-160H180v160Zm440 0h160v-160H620v160ZM180-180h160v-160H180v160Zm440 0h160v-160H620v160Z\"/>\n",
              "  </svg>\n",
              "    </button>\n",
              "\n",
              "  <style>\n",
              "    .colab-df-container {\n",
              "      display:flex;\n",
              "      gap: 12px;\n",
              "    }\n",
              "\n",
              "    .colab-df-convert {\n",
              "      background-color: #E8F0FE;\n",
              "      border: none;\n",
              "      border-radius: 50%;\n",
              "      cursor: pointer;\n",
              "      display: none;\n",
              "      fill: #1967D2;\n",
              "      height: 32px;\n",
              "      padding: 0 0 0 0;\n",
              "      width: 32px;\n",
              "    }\n",
              "\n",
              "    .colab-df-convert:hover {\n",
              "      background-color: #E2EBFA;\n",
              "      box-shadow: 0px 1px 2px rgba(60, 64, 67, 0.3), 0px 1px 3px 1px rgba(60, 64, 67, 0.15);\n",
              "      fill: #174EA6;\n",
              "    }\n",
              "\n",
              "    .colab-df-buttons div {\n",
              "      margin-bottom: 4px;\n",
              "    }\n",
              "\n",
              "    [theme=dark] .colab-df-convert {\n",
              "      background-color: #3B4455;\n",
              "      fill: #D2E3FC;\n",
              "    }\n",
              "\n",
              "    [theme=dark] .colab-df-convert:hover {\n",
              "      background-color: #434B5C;\n",
              "      box-shadow: 0px 1px 3px 1px rgba(0, 0, 0, 0.15);\n",
              "      filter: drop-shadow(0px 1px 2px rgba(0, 0, 0, 0.3));\n",
              "      fill: #FFFFFF;\n",
              "    }\n",
              "  </style>\n",
              "\n",
              "    <script>\n",
              "      const buttonEl =\n",
              "        document.querySelector('#df-8b61ecb8-c27f-4b12-b593-1fc369f8d027 button.colab-df-convert');\n",
              "      buttonEl.style.display =\n",
              "        google.colab.kernel.accessAllowed ? 'block' : 'none';\n",
              "\n",
              "      async function convertToInteractive(key) {\n",
              "        const element = document.querySelector('#df-8b61ecb8-c27f-4b12-b593-1fc369f8d027');\n",
              "        const dataTable =\n",
              "          await google.colab.kernel.invokeFunction('convertToInteractive',\n",
              "                                                    [key], {});\n",
              "        if (!dataTable) return;\n",
              "\n",
              "        const docLinkHtml = 'Like what you see? Visit the ' +\n",
              "          '<a target=\"_blank\" href=https://colab.research.google.com/notebooks/data_table.ipynb>data table notebook</a>'\n",
              "          + ' to learn more about interactive tables.';\n",
              "        element.innerHTML = '';\n",
              "        dataTable['output_type'] = 'display_data';\n",
              "        await google.colab.output.renderOutput(dataTable, element);\n",
              "        const docLink = document.createElement('div');\n",
              "        docLink.innerHTML = docLinkHtml;\n",
              "        element.appendChild(docLink);\n",
              "      }\n",
              "    </script>\n",
              "  </div>\n",
              "\n",
              "\n",
              "<div id=\"df-e2013150-caa6-4697-90ca-602dbb65907d\">\n",
              "  <button class=\"colab-df-quickchart\" onclick=\"quickchart('df-e2013150-caa6-4697-90ca-602dbb65907d')\"\n",
              "            title=\"Suggest charts.\"\n",
              "            style=\"display:none;\">\n",
              "\n",
              "<svg xmlns=\"http://www.w3.org/2000/svg\" height=\"24px\"viewBox=\"0 0 24 24\"\n",
              "     width=\"24px\">\n",
              "    <g>\n",
              "        <path d=\"M19 3H5c-1.1 0-2 .9-2 2v14c0 1.1.9 2 2 2h14c1.1 0 2-.9 2-2V5c0-1.1-.9-2-2-2zM9 17H7v-7h2v7zm4 0h-2V7h2v10zm4 0h-2v-4h2v4z\"/>\n",
              "    </g>\n",
              "</svg>\n",
              "  </button>\n",
              "\n",
              "<style>\n",
              "  .colab-df-quickchart {\n",
              "    background-color: #E8F0FE;\n",
              "    border: none;\n",
              "    border-radius: 50%;\n",
              "    cursor: pointer;\n",
              "    display: none;\n",
              "    fill: #1967D2;\n",
              "    height: 32px;\n",
              "    padding: 0 0 0 0;\n",
              "    width: 32px;\n",
              "  }\n",
              "\n",
              "  .colab-df-quickchart:hover {\n",
              "    background-color: #E2EBFA;\n",
              "    box-shadow: 0px 1px 2px rgba(60, 64, 67, 0.3), 0px 1px 3px 1px rgba(60, 64, 67, 0.15);\n",
              "    fill: #174EA6;\n",
              "  }\n",
              "\n",
              "  [theme=dark] .colab-df-quickchart {\n",
              "    background-color: #3B4455;\n",
              "    fill: #D2E3FC;\n",
              "  }\n",
              "\n",
              "  [theme=dark] .colab-df-quickchart:hover {\n",
              "    background-color: #434B5C;\n",
              "    box-shadow: 0px 1px 3px 1px rgba(0, 0, 0, 0.15);\n",
              "    filter: drop-shadow(0px 1px 2px rgba(0, 0, 0, 0.3));\n",
              "    fill: #FFFFFF;\n",
              "  }\n",
              "</style>\n",
              "\n",
              "  <script>\n",
              "    async function quickchart(key) {\n",
              "      const charts = await google.colab.kernel.invokeFunction(\n",
              "          'suggestCharts', [key], {});\n",
              "    }\n",
              "    (() => {\n",
              "      let quickchartButtonEl =\n",
              "        document.querySelector('#df-e2013150-caa6-4697-90ca-602dbb65907d button');\n",
              "      quickchartButtonEl.style.display =\n",
              "        google.colab.kernel.accessAllowed ? 'block' : 'none';\n",
              "    })();\n",
              "  </script>\n",
              "</div>\n",
              "    </div>\n",
              "  </div>\n"
            ]
          },
          "metadata": {},
          "execution_count": 112
        }
      ]
    },
    {
      "cell_type": "code",
      "execution_count": null,
      "metadata": {
        "id": "2d382624",
        "outputId": "246bab66-33a0-4d6a-ac40-981f2dc7db91",
        "colab": {
          "base_uri": "https://localhost:8080/"
        }
      },
      "outputs": [
        {
          "output_type": "execute_result",
          "data": {
            "text/plain": [
              "0"
            ]
          },
          "metadata": {},
          "execution_count": 28
        }
      ],
      "source": [
        "df.duplicated().sum()"
      ]
    },
    {
      "cell_type": "code",
      "source": [
        "df.shape"
      ],
      "metadata": {
        "id": "EuCMbZlqwRwn",
        "colab": {
          "base_uri": "https://localhost:8080/"
        },
        "outputId": "cc697ed7-e7bd-4397-ccbc-afe68edadeb2"
      },
      "execution_count": null,
      "outputs": [
        {
          "output_type": "execute_result",
          "data": {
            "text/plain": [
              "(100, 15)"
            ]
          },
          "metadata": {},
          "execution_count": 17
        }
      ]
    },
    {
      "cell_type": "code",
      "source": [
        "df.columns"
      ],
      "metadata": {
        "colab": {
          "base_uri": "https://localhost:8080/"
        },
        "id": "zBPHNxtXu59P",
        "outputId": "96741f9a-26a7-4874-bc4e-5b13fffaba49"
      },
      "execution_count": null,
      "outputs": [
        {
          "output_type": "execute_result",
          "data": {
            "text/plain": [
              "Index(['Name', 'Amount', 'Fraud', 'Used_method', 'Transaction_type',\n",
              "       'No_of_times'],\n",
              "      dtype='object')"
            ]
          },
          "metadata": {},
          "execution_count": 29
        }
      ]
    },
    {
      "cell_type": "code",
      "source": [
        "df = pd.get_dummies(df, columns=['Name','Transaction_type','Used_method'])\n"
      ],
      "metadata": {
        "id": "3rUG6VmZw5Ea"
      },
      "execution_count": null,
      "outputs": []
    },
    {
      "cell_type": "code",
      "source": [
        "df.isnull().sum()"
      ],
      "metadata": {
        "colab": {
          "base_uri": "https://localhost:8080/"
        },
        "id": "0D9AqE0EyOcH",
        "outputId": "9481cb7f-934a-4d04-c2ce-68e5aa17490f"
      },
      "execution_count": null,
      "outputs": [
        {
          "output_type": "execute_result",
          "data": {
            "text/plain": [
              "Amount                          0\n",
              "Fraud                           0\n",
              "Used_method                     0\n",
              "No_of_times                     0\n",
              "Transaction_type_Debit card     0\n",
              "Transaction_type_UPI            0\n",
              "Transaction_type_credit card    0\n",
              "Name_Amazon                     0\n",
              "Name_Meesho                     0\n",
              "Name_Myntra                     0\n",
              "Name_Temple square              0\n",
              "Name_Yummy shop                 0\n",
              "Name_central square             0\n",
              "Name_flipkart                   0\n",
              "Name_shopsy                     0\n",
              "dtype: int64"
            ]
          },
          "metadata": {},
          "execution_count": 44
        }
      ]
    },
    {
      "cell_type": "code",
      "source": [
        "df.info()"
      ],
      "metadata": {
        "colab": {
          "base_uri": "https://localhost:8080/"
        },
        "id": "tu5ZridoyWd2",
        "outputId": "3dba8175-ceb0-4199-b546-3fcd1839020d"
      },
      "execution_count": null,
      "outputs": [
        {
          "output_type": "stream",
          "name": "stdout",
          "text": [
            "<class 'pandas.core.frame.DataFrame'>\n",
            "RangeIndex: 100 entries, 0 to 99\n",
            "Data columns (total 15 columns):\n",
            " #   Column                        Non-Null Count  Dtype \n",
            "---  ------                        --------------  ----- \n",
            " 0   Amount                        100 non-null    int64 \n",
            " 1   Fraud                         100 non-null    object\n",
            " 2   Used_method                   100 non-null    object\n",
            " 3   No_of_times                   100 non-null    object\n",
            " 4   Transaction_type_Debit card   100 non-null    uint8 \n",
            " 5   Transaction_type_UPI          100 non-null    uint8 \n",
            " 6   Transaction_type_credit card  100 non-null    uint8 \n",
            " 7   Name_Amazon                   100 non-null    uint8 \n",
            " 8   Name_Meesho                   100 non-null    uint8 \n",
            " 9   Name_Myntra                   100 non-null    uint8 \n",
            " 10  Name_Temple square            100 non-null    uint8 \n",
            " 11  Name_Yummy shop               100 non-null    uint8 \n",
            " 12  Name_central square           100 non-null    uint8 \n",
            " 13  Name_flipkart                 100 non-null    uint8 \n",
            " 14  Name_shopsy                   100 non-null    uint8 \n",
            "dtypes: int64(1), object(3), uint8(11)\n",
            "memory usage: 4.3+ KB\n"
          ]
        }
      ]
    },
    {
      "cell_type": "code",
      "source": [
        "df.describe()"
      ],
      "metadata": {
        "colab": {
          "base_uri": "https://localhost:8080/",
          "height": 300
        },
        "id": "gu7iJjr31qXn",
        "outputId": "238c93fd-196e-4b19-a3a1-87267ff6b0ba"
      },
      "execution_count": null,
      "outputs": [
        {
          "output_type": "execute_result",
          "data": {
            "text/plain": [
              "           Amount\n",
              "count  100.000000\n",
              "mean    35.710000\n",
              "std      7.082907\n",
              "min     25.000000\n",
              "25%     29.000000\n",
              "50%     35.000000\n",
              "75%     42.000000\n",
              "max     48.000000"
            ],
            "text/html": [
              "\n",
              "  <div id=\"df-6ea68e58-83d6-4796-85dd-4dfff25ead5d\" class=\"colab-df-container\">\n",
              "    <div>\n",
              "<style scoped>\n",
              "    .dataframe tbody tr th:only-of-type {\n",
              "        vertical-align: middle;\n",
              "    }\n",
              "\n",
              "    .dataframe tbody tr th {\n",
              "        vertical-align: top;\n",
              "    }\n",
              "\n",
              "    .dataframe thead th {\n",
              "        text-align: right;\n",
              "    }\n",
              "</style>\n",
              "<table border=\"1\" class=\"dataframe\">\n",
              "  <thead>\n",
              "    <tr style=\"text-align: right;\">\n",
              "      <th></th>\n",
              "      <th>Amount</th>\n",
              "    </tr>\n",
              "  </thead>\n",
              "  <tbody>\n",
              "    <tr>\n",
              "      <th>count</th>\n",
              "      <td>100.000000</td>\n",
              "    </tr>\n",
              "    <tr>\n",
              "      <th>mean</th>\n",
              "      <td>35.710000</td>\n",
              "    </tr>\n",
              "    <tr>\n",
              "      <th>std</th>\n",
              "      <td>7.082907</td>\n",
              "    </tr>\n",
              "    <tr>\n",
              "      <th>min</th>\n",
              "      <td>25.000000</td>\n",
              "    </tr>\n",
              "    <tr>\n",
              "      <th>25%</th>\n",
              "      <td>29.000000</td>\n",
              "    </tr>\n",
              "    <tr>\n",
              "      <th>50%</th>\n",
              "      <td>35.000000</td>\n",
              "    </tr>\n",
              "    <tr>\n",
              "      <th>75%</th>\n",
              "      <td>42.000000</td>\n",
              "    </tr>\n",
              "    <tr>\n",
              "      <th>max</th>\n",
              "      <td>48.000000</td>\n",
              "    </tr>\n",
              "  </tbody>\n",
              "</table>\n",
              "</div>\n",
              "    <div class=\"colab-df-buttons\">\n",
              "\n",
              "  <div class=\"colab-df-container\">\n",
              "    <button class=\"colab-df-convert\" onclick=\"convertToInteractive('df-6ea68e58-83d6-4796-85dd-4dfff25ead5d')\"\n",
              "            title=\"Convert this dataframe to an interactive table.\"\n",
              "            style=\"display:none;\">\n",
              "\n",
              "  <svg xmlns=\"http://www.w3.org/2000/svg\" height=\"24px\" viewBox=\"0 -960 960 960\">\n",
              "    <path d=\"M120-120v-720h720v720H120Zm60-500h600v-160H180v160Zm220 220h160v-160H400v160Zm0 220h160v-160H400v160ZM180-400h160v-160H180v160Zm440 0h160v-160H620v160ZM180-180h160v-160H180v160Zm440 0h160v-160H620v160Z\"/>\n",
              "  </svg>\n",
              "    </button>\n",
              "\n",
              "  <style>\n",
              "    .colab-df-container {\n",
              "      display:flex;\n",
              "      gap: 12px;\n",
              "    }\n",
              "\n",
              "    .colab-df-convert {\n",
              "      background-color: #E8F0FE;\n",
              "      border: none;\n",
              "      border-radius: 50%;\n",
              "      cursor: pointer;\n",
              "      display: none;\n",
              "      fill: #1967D2;\n",
              "      height: 32px;\n",
              "      padding: 0 0 0 0;\n",
              "      width: 32px;\n",
              "    }\n",
              "\n",
              "    .colab-df-convert:hover {\n",
              "      background-color: #E2EBFA;\n",
              "      box-shadow: 0px 1px 2px rgba(60, 64, 67, 0.3), 0px 1px 3px 1px rgba(60, 64, 67, 0.15);\n",
              "      fill: #174EA6;\n",
              "    }\n",
              "\n",
              "    .colab-df-buttons div {\n",
              "      margin-bottom: 4px;\n",
              "    }\n",
              "\n",
              "    [theme=dark] .colab-df-convert {\n",
              "      background-color: #3B4455;\n",
              "      fill: #D2E3FC;\n",
              "    }\n",
              "\n",
              "    [theme=dark] .colab-df-convert:hover {\n",
              "      background-color: #434B5C;\n",
              "      box-shadow: 0px 1px 3px 1px rgba(0, 0, 0, 0.15);\n",
              "      filter: drop-shadow(0px 1px 2px rgba(0, 0, 0, 0.3));\n",
              "      fill: #FFFFFF;\n",
              "    }\n",
              "  </style>\n",
              "\n",
              "    <script>\n",
              "      const buttonEl =\n",
              "        document.querySelector('#df-6ea68e58-83d6-4796-85dd-4dfff25ead5d button.colab-df-convert');\n",
              "      buttonEl.style.display =\n",
              "        google.colab.kernel.accessAllowed ? 'block' : 'none';\n",
              "\n",
              "      async function convertToInteractive(key) {\n",
              "        const element = document.querySelector('#df-6ea68e58-83d6-4796-85dd-4dfff25ead5d');\n",
              "        const dataTable =\n",
              "          await google.colab.kernel.invokeFunction('convertToInteractive',\n",
              "                                                    [key], {});\n",
              "        if (!dataTable) return;\n",
              "\n",
              "        const docLinkHtml = 'Like what you see? Visit the ' +\n",
              "          '<a target=\"_blank\" href=https://colab.research.google.com/notebooks/data_table.ipynb>data table notebook</a>'\n",
              "          + ' to learn more about interactive tables.';\n",
              "        element.innerHTML = '';\n",
              "        dataTable['output_type'] = 'display_data';\n",
              "        await google.colab.output.renderOutput(dataTable, element);\n",
              "        const docLink = document.createElement('div');\n",
              "        docLink.innerHTML = docLinkHtml;\n",
              "        element.appendChild(docLink);\n",
              "      }\n",
              "    </script>\n",
              "  </div>\n",
              "\n",
              "\n",
              "<div id=\"df-f6ef1620-c977-47f4-bdeb-d3eb253dc77e\">\n",
              "  <button class=\"colab-df-quickchart\" onclick=\"quickchart('df-f6ef1620-c977-47f4-bdeb-d3eb253dc77e')\"\n",
              "            title=\"Suggest charts.\"\n",
              "            style=\"display:none;\">\n",
              "\n",
              "<svg xmlns=\"http://www.w3.org/2000/svg\" height=\"24px\"viewBox=\"0 0 24 24\"\n",
              "     width=\"24px\">\n",
              "    <g>\n",
              "        <path d=\"M19 3H5c-1.1 0-2 .9-2 2v14c0 1.1.9 2 2 2h14c1.1 0 2-.9 2-2V5c0-1.1-.9-2-2-2zM9 17H7v-7h2v7zm4 0h-2V7h2v10zm4 0h-2v-4h2v4z\"/>\n",
              "    </g>\n",
              "</svg>\n",
              "  </button>\n",
              "\n",
              "<style>\n",
              "  .colab-df-quickchart {\n",
              "    background-color: #E8F0FE;\n",
              "    border: none;\n",
              "    border-radius: 50%;\n",
              "    cursor: pointer;\n",
              "    display: none;\n",
              "    fill: #1967D2;\n",
              "    height: 32px;\n",
              "    padding: 0 0 0 0;\n",
              "    width: 32px;\n",
              "  }\n",
              "\n",
              "  .colab-df-quickchart:hover {\n",
              "    background-color: #E2EBFA;\n",
              "    box-shadow: 0px 1px 2px rgba(60, 64, 67, 0.3), 0px 1px 3px 1px rgba(60, 64, 67, 0.15);\n",
              "    fill: #174EA6;\n",
              "  }\n",
              "\n",
              "  [theme=dark] .colab-df-quickchart {\n",
              "    background-color: #3B4455;\n",
              "    fill: #D2E3FC;\n",
              "  }\n",
              "\n",
              "  [theme=dark] .colab-df-quickchart:hover {\n",
              "    background-color: #434B5C;\n",
              "    box-shadow: 0px 1px 3px 1px rgba(0, 0, 0, 0.15);\n",
              "    filter: drop-shadow(0px 1px 2px rgba(0, 0, 0, 0.3));\n",
              "    fill: #FFFFFF;\n",
              "  }\n",
              "</style>\n",
              "\n",
              "  <script>\n",
              "    async function quickchart(key) {\n",
              "      const charts = await google.colab.kernel.invokeFunction(\n",
              "          'suggestCharts', [key], {});\n",
              "    }\n",
              "    (() => {\n",
              "      let quickchartButtonEl =\n",
              "        document.querySelector('#df-f6ef1620-c977-47f4-bdeb-d3eb253dc77e button');\n",
              "      quickchartButtonEl.style.display =\n",
              "        google.colab.kernel.accessAllowed ? 'block' : 'none';\n",
              "    })();\n",
              "  </script>\n",
              "</div>\n",
              "    </div>\n",
              "  </div>\n"
            ]
          },
          "metadata": {},
          "execution_count": 69
        }
      ]
    },
    {
      "cell_type": "code",
      "source": [
        "df.nunique()"
      ],
      "metadata": {
        "colab": {
          "base_uri": "https://localhost:8080/"
        },
        "id": "9fuaxRxO2CK0",
        "outputId": "6e3feb3b-d8cd-4136-a4e4-98203af029e5"
      },
      "execution_count": null,
      "outputs": [
        {
          "output_type": "execute_result",
          "data": {
            "text/plain": [
              "Name                 8\n",
              "Amount              23\n",
              "Fraud                1\n",
              "Used_method          4\n",
              "Transaction_type     3\n",
              "No_of_times          1\n",
              "dtype: int64"
            ]
          },
          "metadata": {},
          "execution_count": 70
        }
      ]
    },
    {
      "cell_type": "code",
      "source": [
        "import matplotlib.pyplot as plt\n",
        "import seaborn as sns"
      ],
      "metadata": {
        "id": "px_Huqh02c2B"
      },
      "execution_count": null,
      "outputs": []
    },
    {
      "cell_type": "code",
      "source": [
        "import warnings\n",
        "warnings.filterwarnings('ignore')"
      ],
      "metadata": {
        "id": "1svQih042jbs"
      },
      "execution_count": null,
      "outputs": []
    },
    {
      "cell_type": "code",
      "source": [
        "df['Name'].unique()"
      ],
      "metadata": {
        "colab": {
          "base_uri": "https://localhost:8080/"
        },
        "id": "WYakhKJG2pGK",
        "outputId": "ba91ecc0-60a9-425e-fdb3-e700b430bcd5"
      },
      "execution_count": null,
      "outputs": [
        {
          "output_type": "execute_result",
          "data": {
            "text/plain": [
              "array(['shopsy', 'Myntra', 'Meesho', 'Temple_square', 'Yummy_shop',\n",
              "       'Amazon', 'central_square', 'flipkart'], dtype=object)"
            ]
          },
          "metadata": {},
          "execution_count": 74
        }
      ]
    },
    {
      "cell_type": "code",
      "source": [
        "df['Name'].value_counts()"
      ],
      "metadata": {
        "colab": {
          "base_uri": "https://localhost:8080/"
        },
        "id": "ZrD1mV07206p",
        "outputId": "823ac229-39f8-427d-bb0b-2e30173baf33"
      },
      "execution_count": null,
      "outputs": [
        {
          "output_type": "execute_result",
          "data": {
            "text/plain": [
              "Yummy_shop        17\n",
              "Meesho            16\n",
              "Amazon            16\n",
              "shopsy            15\n",
              "Myntra            13\n",
              "central_square    12\n",
              "Temple_square      8\n",
              "flipkart           3\n",
              "Name: Name, dtype: int64"
            ]
          },
          "metadata": {},
          "execution_count": 75
        }
      ]
    },
    {
      "cell_type": "code",
      "source": [
        "df['Transaction_type'].unique()"
      ],
      "metadata": {
        "colab": {
          "base_uri": "https://localhost:8080/"
        },
        "id": "u9BacfNf25WB",
        "outputId": "6870f8ba-373f-46ad-880e-544156c4b8c6"
      },
      "execution_count": null,
      "outputs": [
        {
          "output_type": "execute_result",
          "data": {
            "text/plain": [
              "array(['credit_card', 'Debit_card', 'UPI'], dtype=object)"
            ]
          },
          "metadata": {},
          "execution_count": 79
        }
      ]
    },
    {
      "cell_type": "code",
      "source": [
        "df['Transaction_type'].value_counts()"
      ],
      "metadata": {
        "colab": {
          "base_uri": "https://localhost:8080/"
        },
        "id": "0Ln8KaWO3Pnx",
        "outputId": "33eb3f16-75e7-43b1-8016-c8dbd7d64bbc"
      },
      "execution_count": null,
      "outputs": [
        {
          "output_type": "execute_result",
          "data": {
            "text/plain": [
              "credit_card    40\n",
              "Debit_card     33\n",
              "UPI            27\n",
              "Name: Transaction_type, dtype: int64"
            ]
          },
          "metadata": {},
          "execution_count": 80
        }
      ]
    },
    {
      "cell_type": "code",
      "source": [
        "df['Used_method'].unique()"
      ],
      "metadata": {
        "colab": {
          "base_uri": "https://localhost:8080/"
        },
        "id": "o_50hY0U3V6P",
        "outputId": "2c993c57-d417-4ea1-bb06-54a9cf3a2c80"
      },
      "execution_count": null,
      "outputs": [
        {
          "output_type": "execute_result",
          "data": {
            "text/plain": [
              "array(['pattern', 'pin', 'face recognition', 'finger print'], dtype=object)"
            ]
          },
          "metadata": {},
          "execution_count": 81
        }
      ]
    },
    {
      "cell_type": "code",
      "source": [
        "df['Used_method'].value_counts()"
      ],
      "metadata": {
        "colab": {
          "base_uri": "https://localhost:8080/"
        },
        "id": "csPtd5AT37oH",
        "outputId": "7ef3ec03-e4c0-4209-c492-1f8ae5639177"
      },
      "execution_count": null,
      "outputs": [
        {
          "output_type": "execute_result",
          "data": {
            "text/plain": [
              "pin                 30\n",
              "finger print        26\n",
              "face recognition    23\n",
              "pattern             21\n",
              "Name: Used_method, dtype: int64"
            ]
          },
          "metadata": {},
          "execution_count": 83
        }
      ]
    },
    {
      "cell_type": "code",
      "source": [
        "X = df.drop('Fraud', axis=1)\n",
        "y = df['Fraud']\n"
      ],
      "metadata": {
        "id": "7HZoj40OxLH9"
      },
      "execution_count": null,
      "outputs": []
    },
    {
      "cell_type": "code",
      "source": [
        "from sklearn.model_selection import train_test_split\n",
        "from sklearn.ensemble import RandomForestClassifier\n",
        "from sklearn.metrics import accuracy_score"
      ],
      "metadata": {
        "id": "dVmfWHZpxCPK"
      },
      "execution_count": null,
      "outputs": []
    },
    {
      "cell_type": "code",
      "source": [
        "X_train, X_test, y_train, y_test = train_test_split(X, y,test_size=2, random_state=42)"
      ],
      "metadata": {
        "id": "0z1L9WvBxf9P"
      },
      "execution_count": null,
      "outputs": []
    },
    {
      "cell_type": "code",
      "source": [
        "model = RandomForestClassifier(n_estimators=100, random_state=42)"
      ],
      "metadata": {
        "id": "bGinwmr-xk4h"
      },
      "execution_count": null,
      "outputs": []
    },
    {
      "cell_type": "code",
      "source": [
        "y_train = y_train.to_numpy()"
      ],
      "metadata": {
        "id": "E8r58LdE5v_4"
      },
      "execution_count": null,
      "outputs": []
    },
    {
      "cell_type": "code",
      "source": [
        "for i in No_of_times:\n",
        "  if int(i) < 5:\n",
        "    print(\"Transaction  is successful\")\n",
        "  else:\n",
        "    print('Fraud')"
      ],
      "metadata": {
        "colab": {
          "base_uri": "https://localhost:8080/"
        },
        "id": "nTEm2_Te1fGS",
        "outputId": "4663a365-0694-45dd-c260-b80ce9eedbb9"
      },
      "execution_count": null,
      "outputs": [
        {
          "output_type": "stream",
          "name": "stdout",
          "text": [
            "Transaction  is successful\n",
            "Transaction  is successful\n",
            "Transaction  is successful\n",
            "Fraud\n",
            "Fraud\n",
            "Fraud\n",
            "Fraud\n",
            "Transaction  is successful\n",
            "Transaction  is successful\n",
            "Transaction  is successful\n",
            "Transaction  is successful\n",
            "Transaction  is successful\n",
            "Transaction  is successful\n",
            "Transaction  is successful\n",
            "Fraud\n",
            "Fraud\n",
            "Transaction  is successful\n",
            "Transaction  is successful\n",
            "Transaction  is successful\n",
            "Transaction  is successful\n",
            "Transaction  is successful\n",
            "Fraud\n",
            "Fraud\n",
            "Fraud\n",
            "Fraud\n",
            "Fraud\n",
            "Fraud\n",
            "Transaction  is successful\n",
            "Transaction  is successful\n",
            "Fraud\n",
            "Fraud\n",
            "Transaction  is successful\n",
            "Transaction  is successful\n",
            "Fraud\n",
            "Transaction  is successful\n",
            "Fraud\n",
            "Fraud\n",
            "Transaction  is successful\n",
            "Fraud\n",
            "Fraud\n",
            "Transaction  is successful\n",
            "Fraud\n",
            "Fraud\n",
            "Transaction  is successful\n",
            "Transaction  is successful\n",
            "Fraud\n",
            "Fraud\n",
            "Transaction  is successful\n",
            "Fraud\n",
            "Fraud\n",
            "Transaction  is successful\n",
            "Fraud\n",
            "Fraud\n",
            "Fraud\n",
            "Transaction  is successful\n",
            "Transaction  is successful\n",
            "Fraud\n",
            "Transaction  is successful\n",
            "Transaction  is successful\n",
            "Fraud\n",
            "Transaction  is successful\n",
            "Fraud\n",
            "Fraud\n",
            "Fraud\n",
            "Transaction  is successful\n",
            "Fraud\n",
            "Transaction  is successful\n",
            "Fraud\n",
            "Transaction  is successful\n",
            "Fraud\n",
            "Fraud\n",
            "Transaction  is successful\n",
            "Fraud\n",
            "Fraud\n",
            "Transaction  is successful\n",
            "Transaction  is successful\n",
            "Fraud\n",
            "Fraud\n",
            "Transaction  is successful\n",
            "Fraud\n",
            "Transaction  is successful\n",
            "Fraud\n",
            "Fraud\n",
            "Fraud\n",
            "Transaction  is successful\n",
            "Transaction  is successful\n",
            "Fraud\n",
            "Transaction  is successful\n",
            "Transaction  is successful\n",
            "Transaction  is successful\n",
            "Fraud\n",
            "Fraud\n",
            "Transaction  is successful\n",
            "Transaction  is successful\n",
            "Fraud\n",
            "Fraud\n",
            "Fraud\n",
            "Transaction  is successful\n",
            "Fraud\n",
            "Transaction  is successful\n"
          ]
        }
      ]
    },
    {
      "cell_type": "code",
      "source": [
        "plt.figure(figsize=(30,20))\n",
        "plt.pie(df['No_of_times'].value_counts(), labels=df['No_of_times'].value_counts().index, autopct='%1.1f%%', textprops={ 'fontsize': 25,\n",
        "                                           'color': 'black',\n",
        "                                           'weight': 'bold',\n",
        "                                           'family': 'serif' })\n",
        "hfont = {'fontname':'serif', 'weight': 'bold'}\n",
        "plt.title('No_of_times', size=20, **hfont)\n",
        "plt.show()"
      ],
      "metadata": {
        "colab": {
          "base_uri": "https://localhost:8080/",
          "height": 1000
        },
        "id": "StWFX7ysQlM8",
        "outputId": "2ecb65fe-d3f1-44d4-8a4c-2f4b7fcdfc8d"
      },
      "execution_count": null,
      "outputs": [
        {
          "output_type": "display_data",
          "data": {
            "text/plain": [
              "<Figure size 3000x2000 with 1 Axes>"
            ],
            "image/png": "[encoded data removed]"
          },
          "metadata": {}
        }
      ]
    }
  ]
}